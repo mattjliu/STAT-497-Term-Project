{
 "cells": [
  {
   "cell_type": "code",
   "execution_count": 1,
   "metadata": {},
   "outputs": [
    {
     "name": "stderr",
     "output_type": "stream",
     "text": [
      "Loading required package: httr\n",
      "Loading required package: dygraphs\n",
      "Loading required package: xts\n",
      "Loading required package: zoo\n",
      "\n",
      "Attaching package: 'zoo'\n",
      "\n",
      "The following objects are masked from 'package:base':\n",
      "\n",
      "    as.Date, as.Date.numeric\n",
      "\n",
      "Loading required package: IRdisplay\n",
      "Loading required package: htmlwidgets\n",
      "Loading required package: repr\n",
      "Loading required package: lubridate\n",
      "\n",
      "Attaching package: 'lubridate'\n",
      "\n",
      "The following object is masked from 'package:base':\n",
      "\n",
      "    date\n",
      "\n"
     ]
    }
   ],
   "source": [
    "source(\"functions/data.R\")\n",
    "source(\"functions/process.R\")\n",
    "source(\"functions/simulations.R\")"
   ]
  },
  {
   "cell_type": "code",
   "execution_count": 2,
   "metadata": {
    "scrolled": true
   },
   "outputs": [
    {
     "name": "stderr",
     "output_type": "stream",
     "text": [
      "No encoding supplied: defaulting to UTF-8.\n",
      "No encoding supplied: defaulting to UTF-8.\n",
      "No encoding supplied: defaulting to UTF-8.\n",
      "No encoding supplied: defaulting to UTF-8.\n"
     ]
    }
   ],
   "source": [
    "# Define dataframes\n",
    "ETH <- get_data(\"ETH\",params$start,params$end,params$period,52,FALSE)\n",
    "XRP <- get_data(\"XRP\",params$start,params$end,params$period,52,FALSE)\n",
    "XMR <- get_data(\"XMR\",params$start,params$end,params$period,52,FALSE)\n",
    "LTC <- get_data(\"LTC\",params$start,params$end,params$period,52,FALSE)\n",
    "\n",
    "high <- cbind(ETH$high,XRP$high,XMR$high,LTC$high)\n",
    "low <- cbind(ETH$low,XRP$low,XMR$low,LTC$low)\n",
    "open <- cbind(ETH$open,XRP$open,XMR$open,LTC$open)\n",
    "close <- cbind(ETH$close,XRP$close,XMR$close,LTC$close)\n",
    "\n",
    "# Rename all the columns\n",
    "colnames(high)  <- currency_vec\n",
    "colnames(low) <- currency_vec\n",
    "colnames(open) <- currency_vec\n",
    "colnames(close) <- currency_vec\n",
    "prices_vec <- list(high,low,open,close)"
   ]
  },
  {
   "cell_type": "code",
   "execution_count": 3,
   "metadata": {},
   "outputs": [
    {
     "data": {
      "text/html": [
       "<ol class=list-inline>\n",
       "\t<li>8515</li>\n",
       "\t<li>7</li>\n",
       "</ol>\n"
      ],
      "text/latex": [
       "\\begin{enumerate*}\n",
       "\\item 8515\n",
       "\\item 7\n",
       "\\end{enumerate*}\n"
      ],
      "text/markdown": [
       "1. 8515\n",
       "2. 7\n",
       "\n",
       "\n"
      ],
      "text/plain": [
       "[1] 8515    7"
      ]
     },
     "metadata": {},
     "output_type": "display_data"
    }
   ],
   "source": [
    "dim(ETH)"
   ]
  },
  {
   "cell_type": "code",
   "execution_count": 8,
   "metadata": {},
   "outputs": [],
   "source": [
    "# simulates contextual bandits problem\n",
    "# params\n",
    "# n_curren: number of currencies in proble (including cash)\n",
    "# n_steps: number of timesteps in the episode\n",
    "# alpha: learning rate of the action preference functions\n",
    "# window_size: size of rolling window of asset prices to consider in the action preferences\n",
    "# discount: discount factor of previous price changes\n",
    "simulate_contextual1 <- function(n_curren,n_steps,alpha,window_size,discount){\n",
    "    \n",
    "    Ht <- rep(0,5) # initialize preference vector\n",
    "    \n",
    "    # Initialize weight vector for moving average window\n",
    "    weight_vec <- c()\n",
    "    for(k in 0:(window_size-1))\n",
    "        weight_vec <- c(weight_vec,discount^k)\n",
    "    weight_vec <- rev(weight_vec)\n",
    "    \n",
    "    price <- head(close,window_size+1) # initializes the price dataframe as the first 2 price vectors\n",
    "    #st <- getPriceRelativeVec(price[1,],price[2,]) # get first price relative vector (first state)\n",
    "    \n",
    "    # history vector of price changes\n",
    "    history <- getPriceRelativeVec(price[1,],price[2,])\n",
    "    for(h in 2:window_size){\n",
    "        history <- rbind(history,getPriceRelativeVec(price[h,],price[h+1,]))\n",
    "    }\n",
    "    \n",
    "    # Define state st as vector of discounted previous relative changes\n",
    "    st <- weight_vec %*% history\n",
    "    \n",
    "    prev_v <- tail(price,1) # initializes first price vector v\n",
    "    \n",
    "    # Define reward vecs and random action reward vectors\n",
    "    Rvec <- c()\n",
    "    Rvec_random <- c()\n",
    "    Rvec_market <- c()\n",
    "    market_average <- rep(1/5,5)\n",
    "    \n",
    "    # initialize matrices\n",
    "    piMat <- matrix(c(1,0,0,0,0),nrow=1,byrow=T)\n",
    "    hMat <- matrix(Ht,nrow=1,byrow=T)\n",
    "    yMat <- matrix(rep(0,n_curren),nrow=1,byrow=T)\n",
    "    \n",
    "    for(i in window_size:n_steps){\n",
    "        # get price dataframe of current time step\n",
    "        price <- head(close,i+2)\n",
    "        # get the current v\n",
    "        curr_v <- tail(price,1)\n",
    "        # get price change\n",
    "        yt <- getPriceRelativeVec(prev_v,curr_v)\n",
    "        \n",
    "        # update history matrix\n",
    "        history <- rbind(tail(history,window_size-1),yt)\n",
    "        \n",
    "        # preference vector for state s (element-wise multiplication of Ht and st)\n",
    "        Ht_s <- st * Ht\n",
    "        \n",
    "        # Compute pivec (softmaxes for each currency)\n",
    "        piVec <- c()\n",
    "        for(a in 1:n_curren)\n",
    "            piVec <- c(piVec,get_softmax(a,Ht_s))\n",
    "        \n",
    "        # get the prefered action\n",
    "        action <- which.max(piVec)\n",
    "        \n",
    "        # get the log returns for our action (in this case our action is the softax)\n",
    "        rt <- exp(getLogReturns(yt,piVec))\n",
    "        Rvec <- c(Rvec,rt)\n",
    "        \n",
    "        # Reward for random action\n",
    "        Rvec_random <- c(Rvec_random,exp(getLogReturns(yt,random_action(4))))\n",
    "        \n",
    "        # Reward for market average\n",
    "        Rvec_market <- c(Rvec_market,exp(getLogReturns(yt,market_average)))\n",
    "        \n",
    "        # Update preference vector\n",
    "        Ht <- get_update(rt,Rvec,Ht,action,alpha)\n",
    "        \n",
    "#         print(log(yt))\n",
    "#         print(Ht)\n",
    "#         print(piVec)\n",
    "#         print(\"=========================================\")\n",
    "        \n",
    "#         print(paste0(\"episode\",i))\n",
    "#         print(cat(\"Ht: \", Ht))\n",
    "#         print(cat(\"Ht_s: \", Ht_s))\n",
    "        # print(cat(\"piVec: \", piVec))\n",
    "#         print(cat(\"rt: \", rt))\n",
    "        # print(\"==============================\")\n",
    "        \n",
    "        prev_v <- curr_v\n",
    "        st <- weight_vec %*% history\n",
    "        \n",
    "        # append to matrices\n",
    "        piMat <- rbind(piMat,piVec)\n",
    "        hMat <- rbind(hMat,Ht)\n",
    "        yMat <- rbind(yMat,yt)\n",
    "            \n",
    "    }\n",
    "    \n",
    "    return_list <- list(prod(Rvec),prod(Rvec_market),piMat,hMat,yMat,cumprod(Rvec),cumprod(Rvec_market))\n",
    "    names(return_list) <- c(\"AgentRt\",\"mktAve\",\"actions\",\"prefs\",\"changes\",\"AgentVec\",\"mktVec\")\n",
    "    \n",
    "#     print(prod(Rvec))\n",
    "#     print(prod(Rvec_random))\n",
    "  #  print(prod(Rvec_market))\n",
    "    # return(c(prod(Rvec),prod(Rvec_market)))\n",
    "    return(return_list)\n",
    "    \n",
    "}"
   ]
  },
  {
   "cell_type": "code",
   "execution_count": 93,
   "metadata": {},
   "outputs": [],
   "source": [
    "test.run <- simulate_contextual1(5,nrow(close),0.3,10,0.8)"
   ]
  },
  {
   "cell_type": "code",
   "execution_count": 94,
   "metadata": {},
   "outputs": [
    {
     "data": {
      "image/png": "[encoded data removed]",
      "text/plain": [
       "plot without title"
      ]
     },
     "metadata": {},
     "output_type": "display_data"
    }
   ],
   "source": [
    "# Plot cummulative returns for agent and mkt\n",
    "plot(test.run$mktVec,type=\"l\",col=\"green\",ylim=c(0,7))\n",
    "lines(test.run$AgentVec,type=\"l\",col=\"blue\")"
   ]
  },
  {
   "cell_type": "code",
   "execution_count": 95,
   "metadata": {},
   "outputs": [
    {
     "data": {
      "image/png": "[encoded data removed]",
      "text/plain": [
       "plot without title"
      ]
     },
     "metadata": {},
     "output_type": "display_data"
    }
   ],
   "source": [
    "plot_graph <- function(run,arg){\n",
    "    value <- run[[arg]]\n",
    "    plot(value[,1],type=\"l\",col=\"blue\")\n",
    "    lines(value[,2],type=\"l\",col = \"red\")\n",
    "    lines(value[,3],type=\"l\",col = \"green\")\n",
    "    lines(value[,4],type=\"l\",col = \"black\")\n",
    "    lines(value[,5],type=\"l\",col = \"yellow\")\n",
    "}\n",
    "\n",
    "plot_graph(test.run,\"actions\")"
   ]
  },
  {
   "cell_type": "code",
   "execution_count": 77,
   "metadata": {},
   "outputs": [],
   "source": [
    "test.run <- simulate_contextual1(5,nrow(close),0.8,10,0.8)"
   ]
  },
  {
   "cell_type": "code",
   "execution_count": 78,
   "metadata": {},
   "outputs": [
    {
     "data": {
      "image/png": "[encoded data removed]",
      "text/plain": [
       "plot without title"
      ]
     },
     "metadata": {},
     "output_type": "display_data"
    }
   ],
   "source": [
    "plot_graph(test.run,\"actions\")"
   ]
  },
  {
   "cell_type": "code",
   "execution_count": 4,
   "metadata": {},
   "outputs": [],
   "source": [
    "# simulates contextual bandits problem\n",
    "# This time action preferences are updated as if we pull all bandits and each timestep\n",
    "# This is because we have full information of the environment\n",
    "# params\n",
    "# n_curren: number of currencies in proble (including cash)\n",
    "# n_steps: number of timesteps in the episode\n",
    "# alpha: learning rate of the action preference functions\n",
    "# window_size: size of rolling window of asset prices to consider in the action preferences\n",
    "# discount: discount factor of previous price changes\n",
    "simulate_contextual2 <- function(n_curren,n_steps,alpha,window_size,discount){\n",
    "  Ht <- rep(0,5) # initialize preference vector\n",
    "  # initialize matrices\n",
    "  piMat <- matrix(c(1,0,0,0,0),nrow=1,byrow=T)\n",
    "  hMat <- matrix(Ht,nrow=1,byrow=T)\n",
    "  yMat <- matrix(rep(0,n_curren),nrow=1,byrow=T)\n",
    "  # Initialize weight vector for moving average window\n",
    "  weight_vec <- c()\n",
    "  for(k in 0:(window_size-1))\n",
    "    weight_vec <- c(weight_vec,discount^k)\n",
    "  weight_vec <- rev(weight_vec)\n",
    "  \n",
    "  price <- head(close,window_size+1) # initializes the price dataframe as the first 2 price vectors\n",
    "  \n",
    "  # history vector of price changes\n",
    "  history <- getPriceRelativeVec(price[1,],price[2,])\n",
    "  for(h in 2:window_size){\n",
    "    history <- rbind(history,getPriceRelativeVec(price[h,],price[h+1,]))\n",
    "  }\n",
    "  \n",
    "  # Define state st as vector of discounted previous relative changes\n",
    "  st <- weight_vec %*% history\n",
    "  \n",
    "  prev_v <- tail(price,1) # initializes first price vector v\n",
    "  \n",
    "  # Define reward vecs and random action reward vectors\n",
    "  Rvec <- c()\n",
    "  Rvec_random <- c()\n",
    "  Rvec_market <- c()\n",
    "  market_average <- rep(1/5,5)\n",
    "  R_all <- c(0)\n",
    "\n",
    "  for(i in window_size:n_steps){\n",
    "    # get price dataframe of current time step\n",
    "    price <- head(close,i+2)\n",
    "    # get the current v\n",
    "    curr_v <- tail(price,1)\n",
    "    # get price change\n",
    "    yt <- getPriceRelativeVec(prev_v,curr_v)\n",
    "    \n",
    "    # update history matrix\n",
    "    history <- rbind(tail(history,window_size-1),yt)\n",
    "    \n",
    "    # preference vector for state s (element-wise multiplication of Ht and st)\n",
    "    Ht_s <- st * Ht\n",
    "    \n",
    "    # Compute pivec (softmaxes for each currency)\n",
    "   \n",
    "    piVec <- c()\n",
    "    for(a in 1:n_curren)\n",
    "      piVec <- c(piVec,get_softmax(a,Ht_s))\n",
    "    \n",
    "    # get the log returns for our action (in this case our action is the softax)\n",
    "    rt <- exp(getLogReturns(yt,piVec))\n",
    "    Rvec <- c(Rvec,rt)\n",
    "    \n",
    "    # get the log returns for pulling each arm\n",
    "    Rvec_bandits <- c()\n",
    "    for(a in 1:n_curren)\n",
    "      Rvec_bandits <- c(Rvec_bandits,log(yt[a]))\n",
    "    \n",
    "    # update preference vector\n",
    "    Ht <- get_update_all_bandits(Rvec_bandits,R_all,Ht,alpha)\n",
    "    \n",
    "    # check if we are at first timestep, and if so, initialize Rmat, else append to Rmat\n",
    "#     if(i == window_size)\n",
    "#       Rmat <-  matrix(Rvec_bandits,nrow=1,ncol=n_curren)\n",
    "#     else\n",
    "#       Rmat <- rbind(Rmat,Rvec_bandits)\n",
    "      \n",
    "    # check if we are at first timestep, and if so, initialize R_all vector, else append to vector\n",
    "    if(i == window_size)\n",
    "        R_all <-  Rvec_bandits\n",
    "    else\n",
    "        R_all <- c(R_all,Rvec_bandits)\n",
    "      \n",
    "    # Append to R_all vector\n",
    "    R_all <- c(R_all,Rvec_bandits)\n",
    "      \n",
    "    # Reward for random action\n",
    "    Rvec_random <- c(Rvec_random,exp(getLogReturns(yt,random_action(4))))\n",
    "    \n",
    "    # Reward for market average\n",
    "    Rvec_market <- c(Rvec_market,exp(getLogReturns(yt,market_average)))\n",
    "    \n",
    "    # update prevsous price and state\n",
    "    prev_v <- curr_v\n",
    "    st <- weight_vec %*% history\n",
    "    # append to matrices\n",
    "    piMat <- rbind(piMat,piVec)\n",
    "    hMat <- rbind(hMat,Ht)\n",
    "    yMat <- rbind(yMat,yt)\n",
    "\n",
    "  }\n",
    " \n",
    "  return_list <- list(prod(Rvec),prod(Rvec_market),piMat,hMat,yMat, cumprod(Rvec),cumprod(Rvec_market))\n",
    "  names(return_list) <- c(\"AgentRt\",\"mktAve\",\"actions\",\"prefs\",\"changes\",\"AgentVec\",\"MktVec\")\n",
    "\n",
    "  return(return_list)\n",
    "}"
   ]
  },
  {
   "cell_type": "code",
   "execution_count": 96,
   "metadata": {},
   "outputs": [
    {
     "data": {
      "text/html": [
       "<ol class=list-inline>\n",
       "\t<li>1</li>\n",
       "\t<li>2</li>\n",
       "\t<li>3</li>\n",
       "\t<li>4</li>\n",
       "\t<li>5</li>\n",
       "\t<li>6</li>\n",
       "</ol>\n"
      ],
      "text/latex": [
       "\\begin{enumerate*}\n",
       "\\item 1\n",
       "\\item 2\n",
       "\\item 3\n",
       "\\item 4\n",
       "\\item 5\n",
       "\\item 6\n",
       "\\end{enumerate*}\n"
      ],
      "text/markdown": [
       "1. 1\n",
       "2. 2\n",
       "3. 3\n",
       "4. 4\n",
       "5. 5\n",
       "6. 6\n",
       "\n",
       "\n"
      ],
      "text/plain": [
       "[1] 1 2 3 4 5 6"
      ]
     },
     "metadata": {},
     "output_type": "display_data"
    }
   ],
   "source": [
    "c(c(1,2,3),c(4,5,6))"
   ]
  },
  {
   "cell_type": "code",
   "execution_count": 6,
   "metadata": {},
   "outputs": [],
   "source": [
    "ctxt2 <- simulate_contextual2(5,nrow(close),0.2,10,0.8)"
   ]
  },
  {
   "cell_type": "code",
   "execution_count": 6,
   "metadata": {},
   "outputs": [
    {
     "data": {
      "image/png": "[encoded data removed]",
      "text/plain": [
       "plot without title"
      ]
     },
     "metadata": {},
     "output_type": "display_data"
    }
   ],
   "source": [
    "plot(ctxt2$MktVec,type=\"l\",col=\"green\")\n",
    "lines(ctxt2$AgentVec,type=\"l\",col=\"blue\")"
   ]
  },
  {
   "cell_type": "code",
   "execution_count": 104,
   "metadata": {},
   "outputs": [
    {
     "data": {
      "image/png": "[encoded data removed]",
      "text/plain": [
       "plot without title"
      ]
     },
     "metadata": {},
     "output_type": "display_data"
    }
   ],
   "source": [
    "plot_graph(ctxt2,\"actions\")"
   ]
  },
  {
   "cell_type": "code",
   "execution_count": 46,
   "metadata": {},
   "outputs": [],
   "source": [
    "# simulates contextual bandits problem strategy 3\n",
    "# This is the all-in method, at each step we put all our assets into one cryptocrreuncy, effectively \n",
    "# making this a contextual k-armed bandits problem where we pull one arm and one arm only\n",
    "# params\n",
    "# n_curren: number of currencies in proble (including cash)\n",
    "# n_steps: number of timesteps in the episode\n",
    "# alpha: learning rate of the action preference functions\n",
    "# window_size: size of rolling window of asset prices to consider in the action preferences\n",
    "# discount: discount factor of previous price changes\n",
    "# epsilon: epsilon value for epsilon greedy\n",
    "simulate_contextual3 <- function(n_curren,n_steps,alpha,window_size,discount,epsilon=0.5){\n",
    "    \n",
    "    Ht <- rep(0,5) # initialize preference vector\n",
    "    \n",
    "    # Initialize weight vector for moving average window\n",
    "    weight_vec <- c()\n",
    "    for(k in 0:(window_size-1))\n",
    "        weight_vec <- c(weight_vec,discount^k)\n",
    "    weight_vec <- rev(weight_vec)\n",
    "    \n",
    "    price <- head(close,window_size+1) # initializes the price dataframe as the first 2 price vectors\n",
    "    #st <- getPriceRelativeVec(price[1,],price[2,]) # get first price relative vector (first state)\n",
    "    \n",
    "    # history vector of price changes\n",
    "    history <- getPriceRelativeVec(price[1,],price[2,])\n",
    "    for(h in 2:window_size){\n",
    "        history <- rbind(history,getPriceRelativeVec(price[h,],price[h+1,]))\n",
    "    }\n",
    "    \n",
    "    # Define state st as vector of discounted previous relative changes\n",
    "    st <- weight_vec %*% history\n",
    "    \n",
    "    prev_v <- tail(price,1) # initializes first price vector v\n",
    "    \n",
    "    # Define reward vecs and random action reward vectors\n",
    "    Rvec <- c()\n",
    "    Rvec_random <- c()\n",
    "    Rvec_market <- c()\n",
    "    market_average <- rep(1/5,5)\n",
    "    \n",
    "    # initialize matrices\n",
    "    piMat <- matrix(c(1,0,0,0,0),nrow=1,byrow=T)\n",
    "    hMat <- matrix(Ht,nrow=1,byrow=T)\n",
    "    yMat <- matrix(rep(0,n_curren),nrow=1,byrow=T)\n",
    "    aMat <- matrix(c(1,0,0,0,0),nrow=1,byrow=T)\n",
    "    \n",
    "    for(i in window_size:n_steps){\n",
    "        # get price dataframe of current time step\n",
    "        price <- head(close,i+2)\n",
    "        # get the current v\n",
    "        curr_v <- tail(price,1)\n",
    "        # get price change\n",
    "        yt <- getPriceRelativeVec(prev_v,curr_v)\n",
    "        \n",
    "        # update history matrix\n",
    "        history <- rbind(tail(history,window_size-1),yt)\n",
    "        \n",
    "        # preference vector for state s (element-wise multiplication of Ht and st)\n",
    "        Ht_s <- st * Ht\n",
    "        \n",
    "        # Compute pivec (softmaxes for each currency)\n",
    "        piVec <- c()\n",
    "        for(a in 1:n_curren)\n",
    "            piVec <- c(piVec,get_softmax(a,Ht_s))\n",
    "        \n",
    "        if(runif(1) < epsilon)\n",
    "            # do random action\n",
    "            action <- sample(seq(1,n_curren),1)\n",
    "        else\n",
    "            # get the prefered action\n",
    "            action <- which.max(piVec)\n",
    "        \n",
    "        # define action vec (1 if action is argmax of softmax)\n",
    "        action_vec <- rep(0,n_curren)\n",
    "        action_vec[action] <- 1\n",
    "        \n",
    "        # get the log returns for our action (in this case our action is the argmax over a)\n",
    "        rt <- exp(getLogReturns(yt,action_vec))\n",
    "        Rvec <- c(Rvec,rt)\n",
    "        \n",
    "        # Reward for random action\n",
    "        Rvec_random <- c(Rvec_random,exp(getLogReturns(yt,random_action(4))))\n",
    "        \n",
    "        # Reward for market average\n",
    "        Rvec_market <- c(Rvec_market,exp(getLogReturns(yt,market_average)))\n",
    "        \n",
    "        # Update preference vector\n",
    "        Ht <- get_update(rt,Rvec,Ht,action,alpha)\n",
    "        \n",
    "#         print(log(yt))\n",
    "#         print(Ht)\n",
    "#         print(piVec)\n",
    "#         print(\"=========================================\")\n",
    "        \n",
    "#         print(paste0(\"episode\",i))\n",
    "#         print(cat(\"Ht: \", Ht))\n",
    "#         print(cat(\"Ht_s: \", Ht_s))\n",
    "        # print(cat(\"piVec: \", piVec))\n",
    "#         print(cat(\"rt: \", rt))\n",
    "        # print(\"==============================\")\n",
    "        \n",
    "        prev_v <- curr_v\n",
    "        st <- weight_vec %*% history\n",
    "        \n",
    "        # append to matrices\n",
    "        piMat <- rbind(piMat,piVec)\n",
    "        hMat <- rbind(hMat,Ht)\n",
    "        yMat <- rbind(yMat,yt)\n",
    "        aMat <- rbind(aMat,action_vec)\n",
    "            \n",
    "    }\n",
    "    \n",
    "    # create returrn list\n",
    "    return_list <- list(prod(Rvec),prod(Rvec_market),piMat,hMat,yMat,cumprod(Rvec),cumprod(Rvec_market),aMat)\n",
    "    names(return_list) <- c(\"AgentRt\",\"mktAve\",\"softmax\",\"prefs\",\"changes\",\"AgentVec\",\"mktVec\",\"actions\")\n",
    "    \n",
    "    return(return_list)\n",
    "    \n",
    "}"
   ]
  },
  {
   "cell_type": "code",
   "execution_count": 79,
   "metadata": {},
   "outputs": [],
   "source": [
    "ctxt3 <- simulate_contextual3(5,nrow(close),0.8,10,0.8,0.2)"
   ]
  },
  {
   "cell_type": "code",
   "execution_count": 80,
   "metadata": {},
   "outputs": [
    {
     "data": {
      "image/png": "[encoded data removed]",
      "text/plain": [
       "plot without title"
      ]
     },
     "metadata": {},
     "output_type": "display_data"
    }
   ],
   "source": [
    "plot_graph(ctxt3,\"softmax\")"
   ]
  },
  {
   "cell_type": "code",
   "execution_count": 81,
   "metadata": {},
   "outputs": [
    {
     "data": {
      "image/png": "[encoded data removed]",
      "text/plain": [
       "plot without title"
      ]
     },
     "metadata": {},
     "output_type": "display_data"
    }
   ],
   "source": [
    "plot(ctxt3$mktVec,type=\"l\",col=\"green\",ylim = c(0,10))\n",
    "lines(ctxt3$AgentVec,type=\"l\",col=\"blue\")"
   ]
  },
  {
   "cell_type": "code",
   "execution_count": 156,
   "metadata": {},
   "outputs": [
    {
     "data": {},
     "metadata": {},
     "output_type": "display_data"
    },
    {
     "data": {
      "image/png": "[encoded data removed]",
      "text/plain": [
       "plot without title"
      ]
     },
     "metadata": {},
     "output_type": "display_data"
    }
   ],
   "source": [
    "plot(XRP$close)"
   ]
  },
  {
   "cell_type": "code",
   "execution_count": null,
   "metadata": {},
   "outputs": [],
   "source": []
  }
 ],
 "metadata": {
  "kernelspec": {
   "display_name": "R",
   "language": "R",
   "name": "ir"
  },
  "language_info": {
   "codemirror_mode": "r",
   "file_extension": ".r",
   "mimetype": "text/x-r-source",
   "name": "R",
   "pygments_lexer": "r",
   "version": "3.5.1"
  }
 },
 "nbformat": 4,
 "nbformat_minor": 2
}
