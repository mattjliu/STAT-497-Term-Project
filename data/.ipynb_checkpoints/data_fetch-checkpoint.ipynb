{
 "cells": [
  {
   "cell_type": "code",
   "execution_count": 1,
   "metadata": {},
   "outputs": [
    {
     "name": "stderr",
     "output_type": "stream",
     "text": [
      "Loading required package: httr\n",
      "Loading required package: dygraphs\n",
      "Loading required package: xts\n",
      "Loading required package: zoo\n",
      "\n",
      "Attaching package: 'zoo'\n",
      "\n",
      "The following objects are masked from 'package:base':\n",
      "\n",
      "    as.Date, as.Date.numeric\n",
      "\n",
      "Loading required package: IRdisplay\n",
      "Loading required package: htmlwidgets\n",
      "Loading required package: repr\n",
      "Loading required package: lubridate\n",
      "\n",
      "Attaching package: 'lubridate'\n",
      "\n",
      "The following object is masked from 'package:base':\n",
      "\n",
      "    date\n",
      "\n"
     ]
    }
   ],
   "source": [
    "# Packages\n",
    "require(\"httr\")\n",
    "library(\"jsonlite\")\n",
    "require(\"dygraphs\")\n",
    "require(\"xts\")\n",
    "require(\"IRdisplay\")\n",
    "require(\"htmlwidgets\")\n",
    "require(\"repr\")\n",
    "require(\"lubridate\")"
   ]
  },
  {
   "cell_type": "code",
   "execution_count": 2,
   "metadata": {},
   "outputs": [],
   "source": [
    "# All relevant params\n",
    "currency_vec = c(\"ETH\",\"XRP\",\"XMR\",\"LTC\")\n",
    "params <- list(\"start\"=toString(as.numeric(as.POSIXct(\"2017-05-01 4:00:00\"))),\n",
    "                    \"end\"=toString(as.numeric(as.POSIXct(\"2018-05-01 4:00:00\"))),\n",
    "                    \"period\"=\"14400\")\n",
    "base <- \"https://poloniex.com/public?command=returnChartData\"\n",
    "\n",
    "# Function that gets the chart data using api\n",
    "get_data <- function(curr,start,end,period,length){\n",
    "    s <- paste(base,\"&currencyPair=BTC_\",curr,\"&start=\",start,\"&end=\",end,\"&period=\",period,sep=\"\")\n",
    "    prices <- data.frame(fromJSON(content(GET(s),\"text\"),flatten=TRUE))\n",
    "    prices$date <- as.POSIXct(as.numeric(prices$date), origin=\"1970/01/01\")\n",
    "    prices$date <- ymd_hms(prices$date)\n",
    "    series <- xts(prices[,-1], order.by=prices$date)\n",
    "    \n",
    "    m <- dygraph(tail(series[,c(1,2,3,4)],n=length), main=paste(\"BTC_\",curr,\" Exchange\",sep=\"\")) %>% \n",
    "    dyCandlestick() %>% \n",
    "    dyOptions(sigFigs=8) \n",
    "    htmlwidgets::saveWidget(m, \"m.html\")\n",
    "    display_html('<iframe src=\"m.html\" width=100% height=450></iframe>')\n",
    "    \n",
    "    return(series)\n",
    "}"
   ]
  },
  {
   "cell_type": "code",
   "execution_count": 3,
   "metadata": {},
   "outputs": [
    {
     "name": "stderr",
     "output_type": "stream",
     "text": [
      "No encoding supplied: defaulting to UTF-8.\n"
     ]
    },
    {
     "data": {
      "text/html": [
       "<iframe src=\"m.html\" width=100% height=450></iframe>"
      ]
     },
     "metadata": {},
     "output_type": "display_data"
    },
    {
     "name": "stderr",
     "output_type": "stream",
     "text": [
      "No encoding supplied: defaulting to UTF-8.\n"
     ]
    },
    {
     "data": {
      "text/html": [
       "<iframe src=\"m.html\" width=100% height=450></iframe>"
      ]
     },
     "metadata": {},
     "output_type": "display_data"
    },
    {
     "name": "stderr",
     "output_type": "stream",
     "text": [
      "No encoding supplied: defaulting to UTF-8.\n"
     ]
    },
    {
     "data": {
      "text/html": [
       "<iframe src=\"m.html\" width=100% height=450></iframe>"
      ]
     },
     "metadata": {},
     "output_type": "display_data"
    },
    {
     "name": "stderr",
     "output_type": "stream",
     "text": [
      "No encoding supplied: defaulting to UTF-8.\n"
     ]
    },
    {
     "data": {
      "text/html": [
       "<iframe src=\"m.html\" width=100% height=450></iframe>"
      ]
     },
     "metadata": {},
     "output_type": "display_data"
    }
   ],
   "source": [
    "ETH <- get_data(\"ETH\",params$start,params$end,params$period,52)\n",
    "XRP <- get_data(\"XRP\",params$start,params$end,params$period,52)\n",
    "XMR <- get_data(\"XMR\",params$start,params$end,params$period,52)\n",
    "LTC <- get_data(\"LTC\",params$start,params$end,params$period,52)"
   ]
  },
  {
   "cell_type": "code",
   "execution_count": 7,
   "metadata": {
    "scrolled": true
   },
   "outputs": [],
   "source": [
    "high <- cbind(ETH$high,XRP$high,XMR$high,LTC$high)\n",
    "low <- cbind(ETH$low,XRP$low,XMR$low,LTC$low)\n",
    "open <- cbind(ETH$open,XRP$open,XMR$open,LTC$open)\n",
    "close <- cbind(ETH$close,XRP$close,XMR$close,LTC$close)\n",
    "\n",
    "# Rename all the columns\n",
    "colnames(high)  <- currency_vec\n",
    "colnames(low) <- currency_vec\n",
    "colnames(open) <- currency_vec\n",
    "colnames(close) <- currency_vec\n",
    "prices_vec <- list(high,low,open,close)"
   ]
  },
  {
   "cell_type": "code",
   "execution_count": 8,
   "metadata": {},
   "outputs": [],
   "source": [
    "# function that returns price relative vector (yt)\n",
    "# params: previous vector and current vector\n",
    "getPriceRelativeVec <- function(prev_v,curr_v)\n",
    "    return(c(1,curr_v)/c(1,prev_v))\n",
    "\n",
    "# function that returns normalized price matrix\n",
    "# params: prices = dataframe (hi,lo,close), vt = closing prices, n = number of timesteps in the past\n",
    "# prices dataframe must end at time t\n",
    "getPriceMatrix <- function(prices,vt,n){\n",
    "    mat <- matrix(tail(prices,n),ncol=4)\n",
    "    vec <- as.vector(vt)\n",
    "    return(t(sweep(mat,2,vec,'/')))\n",
    "}\n",
    "\n",
    "# function that returns log returns given price-relative vector and weights vector\n",
    "# params: yt = price-relative vector at time t, wt = weight vector at time t\n",
    "getLogReturns <- function(yt,wt)\n",
    "    return(log(dot(yt,wt)))"
   ]
  },
  {
   "cell_type": "code",
   "execution_count": 9,
   "metadata": {},
   "outputs": [
    {
     "data": {
      "text/html": [
       "<table>\n",
       "<tbody>\n",
       "\t<tr><td>0.9948332</td><td>0.9935368</td><td>1.0023844</td><td>1.0088672</td><td>0.9984387</td><td>0.9929233</td><td>0.9864650</td><td>0.9773427</td><td>1.0021532</td><td>1        </td></tr>\n",
       "\t<tr><td>1.0111732</td><td>0.9967138</td><td>0.9930989</td><td>0.9968233</td><td>0.9963851</td><td>0.9945229</td><td>0.9854310</td><td>0.9737102</td><td>0.9975901</td><td>1        </td></tr>\n",
       "\t<tr><td>1.0276231</td><td>1.0001541</td><td>0.9982772</td><td>0.9908949</td><td>0.9967358</td><td>1.0266762</td><td>0.9869188</td><td>0.9701906</td><td>0.9814119</td><td>1        </td></tr>\n",
       "\t<tr><td>1.0080801</td><td>1.0034558</td><td>1.0019446</td><td>1.0002096</td><td>1.0015445</td><td>0.9991399</td><td>0.9908058</td><td>0.9926234</td><td>0.9997571</td><td>1        </td></tr>\n",
       "</tbody>\n",
       "</table>\n"
      ],
      "text/latex": [
       "\\begin{tabular}{llllllllll}\n",
       "\t 0.9948332 & 0.9935368 & 1.0023844 & 1.0088672 & 0.9984387 & 0.9929233 & 0.9864650 & 0.9773427 & 1.0021532 & 1        \\\\\n",
       "\t 1.0111732 & 0.9967138 & 0.9930989 & 0.9968233 & 0.9963851 & 0.9945229 & 0.9854310 & 0.9737102 & 0.9975901 & 1        \\\\\n",
       "\t 1.0276231 & 1.0001541 & 0.9982772 & 0.9908949 & 0.9967358 & 1.0266762 & 0.9869188 & 0.9701906 & 0.9814119 & 1        \\\\\n",
       "\t 1.0080801 & 1.0034558 & 1.0019446 & 1.0002096 & 1.0015445 & 0.9991399 & 0.9908058 & 0.9926234 & 0.9997571 & 1        \\\\\n",
       "\\end{tabular}\n"
      ],
      "text/markdown": [
       "\n",
       "| 0.9948332 | 0.9935368 | 1.0023844 | 1.0088672 | 0.9984387 | 0.9929233 | 0.9864650 | 0.9773427 | 1.0021532 | 1         | \n",
       "| 1.0111732 | 0.9967138 | 0.9930989 | 0.9968233 | 0.9963851 | 0.9945229 | 0.9854310 | 0.9737102 | 0.9975901 | 1         | \n",
       "| 1.0276231 | 1.0001541 | 0.9982772 | 0.9908949 | 0.9967358 | 1.0266762 | 0.9869188 | 0.9701906 | 0.9814119 | 1         | \n",
       "| 1.0080801 | 1.0034558 | 1.0019446 | 1.0002096 | 1.0015445 | 0.9991399 | 0.9908058 | 0.9926234 | 0.9997571 | 1         | \n",
       "\n",
       "\n"
      ],
      "text/plain": [
       "     [,1]      [,2]      [,3]      [,4]      [,5]      [,6]      [,7]     \n",
       "[1,] 0.9948332 0.9935368 1.0023844 1.0088672 0.9984387 0.9929233 0.9864650\n",
       "[2,] 1.0111732 0.9967138 0.9930989 0.9968233 0.9963851 0.9945229 0.9854310\n",
       "[3,] 1.0276231 1.0001541 0.9982772 0.9908949 0.9967358 1.0266762 0.9869188\n",
       "[4,] 1.0080801 1.0034558 1.0019446 1.0002096 1.0015445 0.9991399 0.9908058\n",
       "     [,8]      [,9]      [,10]\n",
       "[1,] 0.9773427 1.0021532 1    \n",
       "[2,] 0.9737102 0.9975901 1    \n",
       "[3,] 0.9701906 0.9814119 1    \n",
       "[4,] 0.9926234 0.9997571 1    "
      ]
     },
     "metadata": {},
     "output_type": "display_data"
    }
   ],
   "source": [
    "getPriceMatrix(close,tail(close,1),10)"
   ]
  },
  {
   "cell_type": "code",
   "execution_count": null,
   "metadata": {},
   "outputs": [],
   "source": []
  }
 ],
 "metadata": {
  "kernelspec": {
   "display_name": "R",
   "language": "R",
   "name": "ir"
  },
  "language_info": {
   "codemirror_mode": "r",
   "file_extension": ".r",
   "mimetype": "text/x-r-source",
   "name": "R",
   "pygments_lexer": "r",
   "version": "3.5.1"
  }
 },
 "nbformat": 4,
 "nbformat_minor": 2
}
