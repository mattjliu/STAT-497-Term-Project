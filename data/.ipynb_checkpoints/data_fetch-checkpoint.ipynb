{
 "cells": [
  {
   "cell_type": "code",
   "execution_count": 1,
   "metadata": {},
   "outputs": [
    {
     "name": "stderr",
     "output_type": "stream",
     "text": [
      "Loading required package: httr\n",
      "Loading required package: dygraphs\n",
      "Loading required package: xts\n",
      "Loading required package: zoo\n",
      "\n",
      "Attaching package: 'zoo'\n",
      "\n",
      "The following objects are masked from 'package:base':\n",
      "\n",
      "    as.Date, as.Date.numeric\n",
      "\n",
      "Loading required package: IRdisplay\n",
      "Loading required package: htmlwidgets\n",
      "Loading required package: repr\n",
      "Loading required package: lubridate\n",
      "\n",
      "Attaching package: 'lubridate'\n",
      "\n",
      "The following object is masked from 'package:base':\n",
      "\n",
      "    date\n",
      "\n"
     ]
    }
   ],
   "source": [
    "# Packages\n",
    "require(\"httr\")\n",
    "library(\"jsonlite\")\n",
    "require(\"dygraphs\")\n",
    "require(\"xts\")\n",
    "require(\"IRdisplay\")\n",
    "require(\"htmlwidgets\")\n",
    "require(\"repr\")\n",
    "require(\"lubridate\")"
   ]
  },
  {
   "cell_type": "code",
   "execution_count": 14,
   "metadata": {},
   "outputs": [],
   "source": [
    "# All relevant params\n",
    "currency_vec = c(\"ETH\",\"XRP\",\"XMR\",\"LTC\")\n",
    "params <- list(\"start\"=toString(as.numeric(as.POSIXct(\"2017-05-01 4:00:00\"))),\n",
    "                    \"end\"=toString(as.numeric(as.POSIXct(\"2018-05-01 4:00:00\"))),\n",
    "                    \"period\"=\"14400\")\n",
    "base <- \"https://poloniex.com/public?command=returnChartData\"\n",
    "\n",
    "# Function that gets the chart data using api\n",
    "get_data <- function(curr,start,end,period,length){\n",
    "    s <- paste(base,\"&currencyPair=BTC_\",curr,\"&start=\",start,\"&end=\",end,\"&period=\",period,sep=\"\")\n",
    "    prices <- data.frame(fromJSON(content(GET(s),\"text\"),flatten=TRUE))\n",
    "    prices$date <- as.POSIXct(as.numeric(prices$date), origin=\"1970/01/01\")\n",
    "    prices$date <- ymd_hms(prices$date)\n",
    "    series <- xts(prices[,-1], order.by=prices$date)\n",
    "    \n",
    "    m <- dygraph(tail(series[,c(1,2,3,4)],n=length), main=paste(\"BTC_\",curr,\" Exchange\",sep=\"\")) %>% \n",
    "    dyCandlestick() %>% \n",
    "    dyOptions(sigFigs=8) \n",
    "    htmlwidgets::saveWidget(m, \"m.html\")\n",
    "    display_html('<iframe src=\"m.html\" width=100% height=450></iframe>')\n",
    "    \n",
    "    return(series)\n",
    "}"
   ]
  },
  {
   "cell_type": "code",
   "execution_count": 15,
   "metadata": {},
   "outputs": [
    {
     "name": "stderr",
     "output_type": "stream",
     "text": [
      "No encoding supplied: defaulting to UTF-8.\n"
     ]
    },
    {
     "data": {
      "text/html": [
       "<iframe src=\"m.html\" width=100% height=450></iframe>"
      ]
     },
     "metadata": {},
     "output_type": "display_data"
    }
   ],
   "source": [
    "series <- get_data(\"ETH\",params$start,params$end,params$period,52)"
   ]
  },
  {
   "cell_type": "code",
   "execution_count": null,
   "metadata": {},
   "outputs": [],
   "source": []
  }
 ],
 "metadata": {
  "kernelspec": {
   "display_name": "R",
   "language": "R",
   "name": "ir"
  },
  "language_info": {
   "codemirror_mode": "r",
   "file_extension": ".r",
   "mimetype": "text/x-r-source",
   "name": "R",
   "pygments_lexer": "r",
   "version": "3.5.1"
  }
 },
 "nbformat": 4,
 "nbformat_minor": 2
}
